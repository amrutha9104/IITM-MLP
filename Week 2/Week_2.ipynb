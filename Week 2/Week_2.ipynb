{
  "cells": [
    {
      "cell_type": "code",
      "execution_count": 1,
      "metadata": {
        "colab": {
          "base_uri": "https://localhost:8080/",
          "height": 36
        },
        "id": "yng-2eUIvANO",
        "outputId": "5242b7a2-467e-437d-f118-db1cd235e43e"
      },
      "outputs": [
        {
          "data": {
            "application/vnd.google.colaboratory.intrinsic+json": {
              "type": "string"
            },
            "text/plain": [
              "'1.6.1'"
            ]
          },
          "execution_count": 1,
          "metadata": {},
          "output_type": "execute_result"
        }
      ],
      "source": [
        "import sklearn\n",
        "sklearn.__version__"
      ]
    },
    {
      "cell_type": "markdown",
      "metadata": {
        "id": "2gqYharTAdJg"
      },
      "source": [
        "1) Find shape of the Wisconsin breast cancer data's feature matrix (accessed from sklearn.datasets)"
      ]
    },
    {
      "cell_type": "code",
      "execution_count": 2,
      "metadata": {
        "colab": {
          "base_uri": "https://localhost:8080/"
        },
        "id": "bUKpu7E-vLkL",
        "outputId": "f76eb35e-4268-4162-8c22-f6cd88a35d77"
      },
      "outputs": [
        {
          "data": {
            "text/plain": [
              "(569, 30)"
            ]
          },
          "execution_count": 2,
          "metadata": {},
          "output_type": "execute_result"
        }
      ],
      "source": [
        "from sklearn.datasets import load_breast_cancer\n",
        "data = load_breast_cancer()\n",
        "data.data.shape"
      ]
    },
    {
      "cell_type": "markdown",
      "metadata": {
        "id": "SJ0g47EHAf1Q"
      },
      "source": [
        "2) How many benign ( B ) tumour cases are present in the Wisconsin breast cancer dataset ?"
      ]
    },
    {
      "cell_type": "code",
      "execution_count": 6,
      "metadata": {
        "colab": {
          "base_uri": "https://localhost:8080/"
        },
        "id": "9Ggmm-ZjvP7u",
        "outputId": "944a7e16-7f0c-4510-b94b-77761a1c2d7f"
      },
      "outputs": [
        {
          "name": "stdout",
          "output_type": "stream",
          "text": [
            "Number of benign cases: 357\n"
          ]
        }
      ],
      "source": [
        "import numpy as np\n",
        "\n",
        "target = data.target\n",
        "benign_count = np.sum(target == 1)\n",
        "print(\"Number of benign cases:\", benign_count)"
      ]
    },
    {
      "cell_type": "markdown",
      "metadata": {
        "id": "q5WLQCxsAmNT"
      },
      "source": [
        "3) How many malignant ( M ) tumour cases are present in the Wisconsin breast cancer dataset."
      ]
    },
    {
      "cell_type": "code",
      "execution_count": 5,
      "metadata": {
        "colab": {
          "base_uri": "https://localhost:8080/"
        },
        "id": "28-4RUf1vVn7",
        "outputId": "0f836868-7d1a-49c2-9401-e1f5c61c81b0"
      },
      "outputs": [
        {
          "name": "stdout",
          "output_type": "stream",
          "text": [
            "Number of malignant cases: 212\n"
          ]
        }
      ],
      "source": [
        "target = data.target_names\n",
        "malignant_count = np.sum(data.target == 0)\n",
        "print(\"Number of malignant cases:\", malignant_count)"
      ]
    },
    {
      "cell_type": "markdown",
      "metadata": {
        "id": "TUMMOHQ6A2MJ"
      },
      "source": [
        "**Instructions for Questions 4-6:** Use the following code for importing California Housing dataset from sklearn. Also, name the dataset as housing_data and print description of the dataset.\\\n",
        "codeblock:\\\n",
        "from sklearn.datasets import fetch_california_housing\\\n",
        "housing_data=fetch_california_housing()\\\n",
        "print(housing_data.DESCR)"
      ]
    },
    {
      "cell_type": "code",
      "execution_count": null,
      "metadata": {
        "colab": {
          "base_uri": "https://localhost:8080/"
        },
        "id": "C2nq-jtCvfDo",
        "outputId": "15ce73ab-bcfa-4653-8a28-95514f735fa2"
      },
      "outputs": [
        {
          "name": "stdout",
          "output_type": "stream",
          "text": [
            ".. _california_housing_dataset:\n",
            "\n",
            "California Housing dataset\n",
            "--------------------------\n",
            "\n",
            "**Data Set Characteristics:**\n",
            "\n",
            ":Number of Instances: 20640\n",
            "\n",
            ":Number of Attributes: 8 numeric, predictive attributes and the target\n",
            "\n",
            ":Attribute Information:\n",
            "    - MedInc        median income in block group\n",
            "    - HouseAge      median house age in block group\n",
            "    - AveRooms      average number of rooms per household\n",
            "    - AveBedrms     average number of bedrooms per household\n",
            "    - Population    block group population\n",
            "    - AveOccup      average number of household members\n",
            "    - Latitude      block group latitude\n",
            "    - Longitude     block group longitude\n",
            "\n",
            ":Missing Attribute Values: None\n",
            "\n",
            "This dataset was obtained from the StatLib repository.\n",
            "https://www.dcc.fc.up.pt/~ltorgo/Regression/cal_housing.html\n",
            "\n",
            "The target variable is the median house value for California districts,\n",
            "expressed in hundreds of thousands of dollars ($100,000).\n",
            "\n",
            "This dataset was derived from the 1990 U.S. census, using one row per census\n",
            "block group. A block group is the smallest geographical unit for which the U.S.\n",
            "Census Bureau publishes sample data (a block group typically has a population\n",
            "of 600 to 3,000 people).\n",
            "\n",
            "A household is a group of people residing within a home. Since the average\n",
            "number of rooms and bedrooms in this dataset are provided per household, these\n",
            "columns may take surprisingly large values for block groups with few households\n",
            "and many empty houses, such as vacation resorts.\n",
            "\n",
            "It can be downloaded/loaded using the\n",
            ":func:`sklearn.datasets.fetch_california_housing` function.\n",
            "\n",
            ".. rubric:: References\n",
            "\n",
            "- Pace, R. Kelley and Ronald Barry, Sparse Spatial Autoregressions,\n",
            "  Statistics and Probability Letters, 33 (1997) 291-297\n",
            "\n"
          ]
        }
      ],
      "source": [
        "# processing dataFrame\n",
        "from sklearn.datasets import fetch_california_housing\n",
        "housing_data=fetch_california_housing()\n",
        "print(housing_data.DESCR)"
      ]
    },
    {
      "cell_type": "markdown",
      "metadata": {
        "id": "Y22TPFdfBdIj"
      },
      "source": [
        "\n",
        "4) Find out the shape of the feature matrix in california housing dataset."
      ]
    },
    {
      "cell_type": "code",
      "execution_count": 10,
      "metadata": {
        "colab": {
          "base_uri": "https://localhost:8080/"
        },
        "id": "wQPXLVF1vyMn",
        "outputId": "94e64abd-882f-47d8-aad9-df4fa979c938"
      },
      "outputs": [
        {
          "data": {
            "text/plain": [
              "(20640, 8)"
            ]
          },
          "execution_count": 10,
          "metadata": {},
          "output_type": "execute_result"
        }
      ],
      "source": [
        "housing_data.data.shape"
      ]
    },
    {
      "cell_type": "markdown",
      "metadata": {
        "id": "bIpo8HFSBh9k"
      },
      "source": [
        "5) Find out the labels of the first five rows(samples) in california housing dataset.\\\n",
        "Note, the labels are real-valued."
      ]
    },
    {
      "cell_type": "code",
      "execution_count": 11,
      "metadata": {
        "colab": {
          "base_uri": "https://localhost:8080/"
        },
        "id": "RRtKX9rAv43A",
        "outputId": "09ed9711-c285-4c10-8af6-ba8b4728600a"
      },
      "outputs": [
        {
          "name": "stdout",
          "output_type": "stream",
          "text": [
            "[4.526 3.585 3.521 3.413 3.422]\n"
          ]
        }
      ],
      "source": [
        "print(housing_data.target[:5])"
      ]
    },
    {
      "cell_type": "markdown",
      "metadata": {
        "id": "Ia3H-xNBBwVs"
      },
      "source": [
        "6) Find out the name of the class label in california housing dataset(target matrix)?\n",
        "\n",
        "A) ['MedHouseVal']\n",
        "\n",
        "B) ['MedInc']\n",
        "\n",
        "C) ['AveRooms']\n",
        "\n",
        "D) ['Population']"
      ]
    },
    {
      "cell_type": "code",
      "execution_count": 15,
      "metadata": {
        "colab": {
          "base_uri": "https://localhost:8080/"
        },
        "id": "r0O2YaO1v-Sd",
        "outputId": "02a18034-de8a-4881-a9e5-d2d807d0f9c3"
      },
      "outputs": [
        {
          "name": "stdout",
          "output_type": "stream",
          "text": [
            "['MedInc', 'HouseAge', 'AveRooms', 'AveBedrms', 'Population', 'AveOccup', 'Latitude', 'Longitude']\n",
            "['MedHouseVal']\n"
          ]
        }
      ],
      "source": [
        "print(housing_data.feature_names)\n",
        "print(housing_data.target_names)"
      ]
    }
  ],
  "metadata": {
    "colab": {
      "provenance": []
    },
    "kernelspec": {
      "display_name": "Python 3",
      "name": "python3"
    },
    "language_info": {
      "name": "python"
    }
  },
  "nbformat": 4,
  "nbformat_minor": 0
}
