{
  "cells": [
    {
      "cell_type": "markdown",
      "metadata": {
        "id": "sG-p6jlPp3qk"
      },
      "source": [
        "Write a code to predict the house price of California Housing dataset using GridSearchCV.\\\n",
        "Write your code based on the following keypoints:\\\n",
        "Split the California housing dataset into train and test set with 70:30 ratio with \\\n",
        "random_state = 1 \\\n",
        "Import StandardScaler for scaling X_train and X_test to X_train_norm and X_test_norm \\\n",
        "with_mean = True\\\n",
        " and \\\n",
        "with_std = True\\\n",
        "Import SGDRegressor with \\\n",
        "random_state = 1\\\n",
        "Pass SGDRegressor through GridSearchCV\\\n",
        "Hyperparamter tuning to be done over\\\n",
        "loss\\\n",
        "as 'squared_error' or 'huber'\\\n",
        "penalty\\\n",
        "as 'l1' or 'l2'\\\n",
        "alpha\\\n",
        "as 0.1, 0.01, 0.001\\\n",
        "maximum number of passes as [1000,2000,5000]\\\n",
        "Cross Validation = 4\\\n",
        "Train the 'model' and compute the 'score' on test data"
      ]
    },
    {
      "cell_type": "markdown",
      "metadata": {
        "id": "RK3fMqzyuSii"
      },
      "source": [
        "1) Enter the value of the 'score'.(Enter your answer in four decimal places)"
      ]
    },
    {
      "cell_type": "code",
      "execution_count": null,
      "metadata": {
        "colab": {
          "base_uri": "https://localhost:8080/"
        },
        "id": "siwvJLyZoJsf",
        "outputId": "f8071bb9-2f1e-444d-ceeb-abb4e8d9a80a"
      },
      "outputs": [
        {
          "name": "stdout",
          "output_type": "stream",
          "text": [
            "0.5951\n"
          ]
        }
      ],
      "source": [
        "#import libraries\n",
        "import pandas as pd\n",
        "from sklearn.datasets import fetch_california_housing\n",
        "from sklearn.model_selection import train_test_split\n",
        "from sklearn.preprocessing import StandardScaler\n",
        "from sklearn.linear_model import SGDRegressor\n",
        "from sklearn.model_selection import GridSearchCV\n",
        "\n",
        "california = fetch_california_housing()\n",
        "X = california.data\n",
        "y = california.target\n",
        "\n",
        "X_train, X_test, y_train, y_test = train_test_split(X, y, test_size=0.3, random_state=1)\n",
        "\n",
        "scaler = StandardScaler(with_mean=True, with_std=True)\n",
        "X_train_norm = scaler.fit_transform(X_train)\n",
        "X_test_norm = scaler.transform(X_test)\n",
        "\n",
        "sgd_regressor = SGDRegressor(random_state=1)\n",
        "param_grid = {\n",
        "    'loss': ['squared_error', 'huber'],\n",
        "    'penalty': ['l1', 'l2'],\n",
        "    'alpha': [0.1, 0.01, 0.001],\n",
        "    'max_iter': [1000, 2000, 5000]\n",
        "}\n",
        "grid_search = GridSearchCV(sgd_regressor, param_grid, cv=4)\n",
        "grid_search.fit(X_train_norm, y_train)\n",
        "\n",
        "\n",
        "score = grid_search.score(X_test_norm, y_test)\n",
        "\n",
        "print(f\"{score:.4f}\")"
      ]
    },
    {
      "cell_type": "markdown",
      "metadata": {
        "id": "O1eQGZYb-Mcz"
      },
      "source": [
        "2) Enter the value of the best alpha obtained."
      ]
    },
    {
      "cell_type": "code",
      "execution_count": 3,
      "metadata": {
        "colab": {
          "base_uri": "https://localhost:8080/"
        },
        "id": "hV-fl8qN-Qjw",
        "outputId": "a441674b-c055-4ba8-8dd2-e80b1fab3961"
      },
      "outputs": [
        {
          "name": "stdout",
          "output_type": "stream",
          "text": [
            "0.01\n"
          ]
        }
      ],
      "source": [
        "print(grid_search.best_params_['alpha'])"
      ]
    },
    {
      "cell_type": "markdown",
      "metadata": {
        "id": "wKBOlYrM-Tw0"
      },
      "source": [
        "3) Enter the value of the best maximum number of passes obtained."
      ]
    },
    {
      "cell_type": "code",
      "execution_count": 4,
      "metadata": {
        "colab": {
          "base_uri": "https://localhost:8080/"
        },
        "id": "evagf6CG-YZk",
        "outputId": "dcc67375-7aec-4ad9-a415-9c0a3e0f79d0"
      },
      "outputs": [
        {
          "name": "stdout",
          "output_type": "stream",
          "text": [
            "1000\n"
          ]
        }
      ],
      "source": [
        "print(grid_search.best_params_['max_iter'])"
      ]
    },
    {
      "cell_type": "markdown",
      "metadata": {
        "id": "tem4LEPz-cVQ"
      },
      "source": [
        "Write a code to predict the house price of California Housing dataset using GridSearchCV.\\\n",
        "Write your code based on the following keypoints:\\\n",
        "Split the California housing dataset into train and test set with 70:30 ratio with \\\n",
        "random_state = 1\\\n",
        "Import StandardScaler for scaling X_train and X_test to X_train_norm and X_test_norm \\\n",
        "with_mean = True\\\n",
        "and \\\n",
        "with_std = True\\\n",
        "Pass Ridge Regression Model through GridSearchCV\\\n",
        "Hyperparamter tuning to be done over\\\n",
        "alpha\\\n",
        "as 0.5,0.1,0.05,0.01,0.005,0.001\\\n",
        "With or without intercept\\\n",
        "Cross Validation = 4\\\n",
        "Train the 'model' and compute the 'score' on test data"
      ]
    },
    {
      "cell_type": "markdown",
      "metadata": {
        "id": "t-RoGOcr-ssR"
      },
      "source": [
        "4) Enter the value of the 'score'. (Enter your answer in four decimal places)"
      ]
    },
    {
      "cell_type": "code",
      "execution_count": 9,
      "metadata": {
        "colab": {
          "base_uri": "https://localhost:8080/"
        },
        "id": "XEHOO4zb-x2z",
        "outputId": "bd1a64c8-7e54-4bbc-ddca-0ac215c99469"
      },
      "outputs": [
        {
          "name": "stdout",
          "output_type": "stream",
          "text": [
            "0.5971\n"
          ]
        }
      ],
      "source": [
        "import pandas as pd\n",
        "from sklearn.datasets import fetch_california_housing\n",
        "from sklearn.model_selection import train_test_split\n",
        "from sklearn.preprocessing import StandardScaler\n",
        "from sklearn.linear_model import Ridge\n",
        "from sklearn.model_selection import GridSearchCV\n",
        "\n",
        "california = fetch_california_housing()\n",
        "X = california.data\n",
        "y = california.target\n",
        "\n",
        "X_train, X_test, y_train, y_test = train_test_split(X, y, test_size=0.3, random_state=1)\n",
        "\n",
        "scaler = StandardScaler(with_mean=True, with_std=True)\n",
        "X_train_norm = scaler.fit_transform(X_train)\n",
        "X_test_norm = scaler.transform(X_test)\n",
        "\n",
        "ridge_regressor = Ridge()\n",
        "param_grid = {\n",
        "    'alpha': [0.5, 0.1, 0.05, 0.01, 0.005, 0.001],\n",
        "    'fit_intercept': [True, False]\n",
        "}\n",
        "grid_search = GridSearchCV(ridge_regressor, param_grid, cv=4)\n",
        "grid_search.fit(X_train_norm, y_train)\n",
        "\n",
        "score = grid_search.score(X_test_norm, y_test)\n",
        "\n",
        "print(f\"{score:.4f}\")"
      ]
    },
    {
      "cell_type": "markdown",
      "metadata": {
        "id": "0oBYH8e0-y_7"
      },
      "source": [
        "5) Enter the value of the best alpha obtained."
      ]
    },
    {
      "cell_type": "code",
      "execution_count": 10,
      "metadata": {
        "colab": {
          "base_uri": "https://localhost:8080/"
        },
        "id": "B2_ur9gO-47Z",
        "outputId": "aee1253b-b141-4369-b21b-8f4929f5b50b"
      },
      "outputs": [
        {
          "name": "stdout",
          "output_type": "stream",
          "text": [
            "0.5\n"
          ]
        }
      ],
      "source": [
        "print(grid_search.best_params_['alpha'])"
      ]
    },
    {
      "cell_type": "markdown",
      "metadata": {
        "id": "K658VMUo--9F"
      },
      "source": [
        "Write a code to predict the house price of California Housing dataset using GridSearchCV.\\\n",
        "Write your code based on the following keypoints:\\\n",
        "Split the California housing dataset into train and test set with 60:40 ratio with \\\n",
        "random_state = 1\\\n",
        "Import StandardScaler for scaling X_train and X_test to X_train_norm and X_test_norm \\\n",
        "with_mean = True\\\n",
        "and \\\n",
        "with_std = True\\\n",
        "Pass Lasso Model through GridSearchCV\\\n",
        "Hyperparamter tuning to be done over\\\n",
        "alpha\\\n",
        "as 0.5,0.1,0.05,0.01,0.005,0.001\\\n",
        "With or without intercept\\\n",
        "Cross Validation = 6\\\n",
        "Train the 'model' and compute the 'score' on test data"
      ]
    },
    {
      "cell_type": "markdown",
      "metadata": {
        "id": "MFoI2iq7_B1k"
      },
      "source": [
        "6) Which of the following is the 'score' computed by your code?"
      ]
    },
    {
      "cell_type": "code",
      "execution_count": null,
      "metadata": {
        "colab": {
          "base_uri": "https://localhost:8080/"
        },
        "id": "VR-YCt_7-_SJ",
        "outputId": "8b98c111-6bf4-4e48-e3d8-5440e10225db"
      },
      "outputs": [
        {
          "name": "stdout",
          "output_type": "stream",
          "text": [
            "0.6048\n"
          ]
        }
      ],
      "source": [
        "from sklearn.linear_model import Lasso\n",
        "\n",
        "california = fetch_california_housing()\n",
        "X = california.data\n",
        "y = california.target\n",
        "\n",
        "X_train, X_test, y_train, y_test = train_test_split(X, y, test_size=0.4, random_state=1)\n",
        "\n",
        "scaler = StandardScaler(with_mean=True, with_std=True)\n",
        "X_train_norm = scaler.fit_transform(X_train)\n",
        "X_test_norm = scaler.transform(X_test)\n",
        "\n",
        "lasso = Lasso()\n",
        "param_grid = {\n",
        "    'alpha': [0.5, 0.1, 0.05, 0.01, 0.005, 0.001],\n",
        "    'fit_intercept': [True, False]\n",
        "}\n",
        "grid_search = GridSearchCV(lasso, param_grid, cv=6)\n",
        "grid_search.fit(X_train_norm, y_train)\n",
        "\n",
        "score = grid_search.score(X_test_norm, y_test)\n",
        "\n",
        "print(f\"{score:.4f}\")"
      ]
    },
    {
      "cell_type": "markdown",
      "metadata": {
        "id": "_BnX8UkS_nnr"
      },
      "source": [
        "7) Enter the value of the best alpha obtained."
      ]
    },
    {
      "cell_type": "code",
      "execution_count": 12,
      "metadata": {
        "colab": {
          "base_uri": "https://localhost:8080/"
        },
        "id": "x4CIa2AT_qwS",
        "outputId": "f8b5f5a2-7552-4f6f-c2f7-3750382649e3"
      },
      "outputs": [
        {
          "name": "stdout",
          "output_type": "stream",
          "text": [
            "0.005\n"
          ]
        }
      ],
      "source": [
        "print(grid_search.best_params_['alpha'])"
      ]
    }
  ],
  "metadata": {
    "colab": {
      "provenance": []
    },
    "kernelspec": {
      "display_name": "Python 3",
      "name": "python3"
    },
    "language_info": {
      "name": "python"
    }
  },
  "nbformat": 4,
  "nbformat_minor": 0
}
