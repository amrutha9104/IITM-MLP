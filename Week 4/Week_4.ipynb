{
  "nbformat": 4,
  "nbformat_minor": 0,
  "metadata": {
    "colab": {
      "provenance": []
    },
    "kernelspec": {
      "name": "python3",
      "display_name": "Python 3"
    },
    "language_info": {
      "name": "python"
    }
  },
  "cells": [
    {
      "cell_type": "markdown",
      "source": [
        "Instructions: For all graded questions, use:\\\n",
        "from sklearn.datasets import fetch_california_housing\\\n",
        "and split the california housing dataset into train and test sets.\\\n",
        "[Hint: use appropriate API with random_state=0, shuffle=False and test_size=0.2]"
      ],
      "metadata": {
        "id": "bZas1p4eJQB_"
      }
    },
    {
      "cell_type": "markdown",
      "source": [
        "1) If we use StandardScaler for preprocessing and LinearRegression for fitting the model with training set obtained from following code snippet:\\\n",
        "X_train,X_test,y_train,y_test= train_test_split(X,y, test_size=0.2, shuffle=False, random_state=0)\\\n",
        "Assume that (X,y) is the california housing dataset.\\\n",
        "What is the R squared value for predictions obtained using test set features?\\\n",
        "Note: Use methods and objects with default parameters"
      ],
      "metadata": {
        "id": "P_Yv1HVbMCYv"
      }
    },
    {
      "cell_type": "code",
      "source": [
        "from sklearn.datasets import fetch_california_housing\n",
        "from sklearn.model_selection import train_test_split\n",
        "from sklearn.preprocessing import StandardScaler\n",
        "from sklearn.linear_model import LinearRegression\n",
        "from sklearn.metrics import r2_score\n",
        "\n",
        "california_housing = fetch_california_housing(as_frame=True)\n",
        "X, y = california_housing.data, california_housing.target\n",
        "\n",
        "X_train, X_test, y_train, y_test = train_test_split(\n",
        "    X, y, test_size=0.2, shuffle=False, random_state=0\n",
        ")\n",
        "\n",
        "scaler = StandardScaler()\n",
        "X_train_scaled = scaler.fit_transform(X_train)\n",
        "X_test_scaled = scaler.transform(X_test)\n",
        "\n",
        "model = LinearRegression()\n",
        "model.fit(X_train_scaled, y_train)\n",
        "\n",
        "y_pred = model.predict(X_test_scaled)\n",
        "\n",
        "r2 = r2_score(y_test, y_pred)\n",
        "print(f\"R-squared value: {r2}\")"
      ],
      "metadata": {
        "colab": {
          "base_uri": "https://localhost:8080/"
        },
        "id": "QttkGRO3MKL2",
        "outputId": "80ca215a-4314-4679-c387-a3b46c0792bd"
      },
      "execution_count": 3,
      "outputs": [
        {
          "output_type": "stream",
          "name": "stdout",
          "text": [
            "R-squared value: 0.6605140591531993\n"
          ]
        }
      ]
    },
    {
      "cell_type": "markdown",
      "source": [
        "2) If we use StandardScaler for preprocessing and LinearRegression for fitting the model, what is the root mean squared error value for predictions obtained using test set features?\\\n",
        "Note: Use methods and objects with default parameters"
      ],
      "metadata": {
        "id": "a80X1kW5Mgb7"
      }
    },
    {
      "cell_type": "code",
      "source": [
        "from sklearn.metrics import mean_squared_error\n",
        "import numpy as np\n",
        "\n",
        "rmse = np.sqrt(mean_squared_error(y_test, y_pred))\n",
        "print(f\"Root Mean Squared Error: {rmse}\")"
      ],
      "metadata": {
        "colab": {
          "base_uri": "https://localhost:8080/"
        },
        "id": "hClbx73uMnEQ",
        "outputId": "f938aae7-3ab2-4108-bb2b-7fb66b28ee30"
      },
      "execution_count": 4,
      "outputs": [
        {
          "output_type": "stream",
          "name": "stdout",
          "text": [
            "Root Mean Squared Error: 0.7033383507521878\n"
          ]
        }
      ]
    },
    {
      "cell_type": "markdown",
      "source": [
        "**Instructions** for next ques from Que 3 to 8\\\n",
        "Split the data into training and test sets with random_state=0, shuffle=False and test_size=0.2 parameters.\\\n",
        "Let, y_test= target label in test set of california housing dataset\\\n",
        "and y_pred=target labels obtained by the model using X_test\\\n",
        "Then compute values of the following evaluation metrics"
      ],
      "metadata": {
        "id": "t-yqkCWdMrUg"
      }
    },
    {
      "cell_type": "markdown",
      "source": [
        "3) Explained Variance score"
      ],
      "metadata": {
        "id": "XnmmhMs-M-e4"
      }
    },
    {
      "cell_type": "code",
      "source": [
        "explained_variance = model.score(X_test_scaled, y_test)\n",
        "print(f\"Explained Variance Score: {explained_variance}\")"
      ],
      "metadata": {
        "colab": {
          "base_uri": "https://localhost:8080/"
        },
        "id": "X3zzF5gCMzfu",
        "outputId": "175a92ce-80cc-4fe1-ee77-4f7e52638df4"
      },
      "execution_count": 5,
      "outputs": [
        {
          "output_type": "stream",
          "name": "stdout",
          "text": [
            "Explained Variance Score: 0.6605140591531993\n"
          ]
        }
      ]
    },
    {
      "cell_type": "markdown",
      "source": [
        "4) Max Error"
      ],
      "metadata": {
        "id": "TGHXfDu1M63y"
      }
    },
    {
      "cell_type": "code",
      "source": [
        "from sklearn.metrics import max_error\n",
        "\n",
        "max_err = max_error(y_test, y_pred)\n",
        "print(f\"Max Error: {max_err}\")"
      ],
      "metadata": {
        "colab": {
          "base_uri": "https://localhost:8080/"
        },
        "id": "BU8H91LqNDPZ",
        "outputId": "7d717620-2fec-4dbd-a5c3-b03bade39c85"
      },
      "execution_count": 6,
      "outputs": [
        {
          "output_type": "stream",
          "name": "stdout",
          "text": [
            "Max Error: 7.260453292958372\n"
          ]
        }
      ]
    },
    {
      "cell_type": "markdown",
      "source": [
        "5) Mean Absolute Error"
      ],
      "metadata": {
        "id": "6oKgzQ8rNJtN"
      }
    },
    {
      "cell_type": "code",
      "source": [
        "from sklearn.metrics import mean_absolute_error\n",
        "\n",
        "mae = mean_absolute_error(y_test, y_pred)\n",
        "print(f\"Mean Absolute Error: {mae}\")"
      ],
      "metadata": {
        "colab": {
          "base_uri": "https://localhost:8080/"
        },
        "id": "y7rSrT6dNTnF",
        "outputId": "e01871df-3fd7-4714-de8d-e8c6dde0ccf7"
      },
      "execution_count": 7,
      "outputs": [
        {
          "output_type": "stream",
          "name": "stdout",
          "text": [
            "Mean Absolute Error: 0.5168526993787042\n"
          ]
        }
      ]
    },
    {
      "cell_type": "markdown",
      "source": [
        "6) Mean Squared Error"
      ],
      "metadata": {
        "id": "wilOQlZYNUue"
      }
    },
    {
      "cell_type": "code",
      "source": [
        "mse = mean_squared_error(y_test, y_pred)\n",
        "print(f\"Mean Squared Error: {mse}\")"
      ],
      "metadata": {
        "colab": {
          "base_uri": "https://localhost:8080/"
        },
        "id": "kROYDHKvNXaJ",
        "outputId": "fcd84c0b-a6ae-4428-aed7-a3dbd7e4c639"
      },
      "execution_count": 8,
      "outputs": [
        {
          "output_type": "stream",
          "name": "stdout",
          "text": [
            "Mean Squared Error: 0.4946848356388075\n"
          ]
        }
      ]
    },
    {
      "cell_type": "markdown",
      "source": [
        "**Instructions:** for Ques 7 to 8, perform SGD Regression on the given (scaled using StandardScalar()) dataset, using default hyperparameters and random_state=0."
      ],
      "metadata": {
        "id": "fSlk9FT6NbD6"
      }
    },
    {
      "cell_type": "markdown",
      "source": [
        "7) What is the bias term?"
      ],
      "metadata": {
        "id": "5C9SdBdWNfc8"
      }
    },
    {
      "cell_type": "code",
      "source": [
        "from sklearn.linear_model import SGDRegressor\n",
        "\n",
        "sgd_regressor = SGDRegressor(random_state=0)\n",
        "sgd_regressor.fit(X_train_scaled, y_train)\n",
        "bias = sgd_regressor.intercept_\n",
        "print(f\"Bias term: {bias}\")\n"
      ],
      "metadata": {
        "colab": {
          "base_uri": "https://localhost:8080/"
        },
        "id": "tM-1GYTClkqP",
        "outputId": "ec2175a6-66e7-4156-ac90-e79b02fd6d40"
      },
      "execution_count": 9,
      "outputs": [
        {
          "output_type": "stream",
          "name": "stdout",
          "text": [
            "Bias term: [2.01123921]\n"
          ]
        }
      ]
    },
    {
      "cell_type": "markdown",
      "source": [
        "8) What are the coefficients in predicted model?"
      ],
      "metadata": {
        "id": "gDCknR8Ilwyu"
      }
    },
    {
      "cell_type": "code",
      "source": [
        "coefficients = sgd_regressor.coef_\n",
        "print(f\"Coefficients: {coefficients}\")"
      ],
      "metadata": {
        "colab": {
          "base_uri": "https://localhost:8080/"
        },
        "id": "6HBlL0kCl3AH",
        "outputId": "272d7a4c-2c8e-4bdd-c9e4-80eb75fd3af0"
      },
      "execution_count": 11,
      "outputs": [
        {
          "output_type": "stream",
          "name": "stdout",
          "text": [
            "Coefficients: [ 0.84046697  0.112331   -0.41213039  0.21595971 -0.01781887 -0.01480892\n",
            " -0.87394103 -0.83913104]\n"
          ]
        }
      ]
    }
  ]
}