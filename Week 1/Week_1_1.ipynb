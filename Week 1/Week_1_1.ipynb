{
  "cells": [
    {
      "cell_type": "markdown",
      "metadata": {
        "id": "svfNL6zU2L0i"
      },
      "source": [
        "\n",
        "1)How many unknown ('?') values are present in the dataset? Remove/Delete unknown (\"?) values present in the dataset to make it null value.\n",
        "Remove/Delete - means it will show NAN in place of \"?\"\n",
        "\n",
        "Note: If there is no value present in the dataset it is represented as NAN(read pandas documentation for all the other ways to represent null values) in data"
      ]
    },
    {
      "cell_type": "code",
      "execution_count": null,
      "metadata": {
        "colab": {
          "base_uri": "https://localhost:8080/"
        },
        "id": "gbs6UYlt0IOd",
        "outputId": "15fc2230-2aaa-4067-e67c-80a9367ab210"
      },
      "outputs": [
        {
          "name": "stdout",
          "output_type": "stream",
          "text": [
            "Number of unknown values: 1823\n"
          ]
        },
        {
          "name": "stderr",
          "output_type": "stream",
          "text": [
            "/usr/local/lib/python3.11/dist-packages/numpy/_core/fromnumeric.py:84: FutureWarning: The behavior of DataFrame.sum with axis=None is deprecated, in a future version this will reduce over both axes and return a scalar. To retain the old behavior, pass axis=0 (or do not pass axis)\n",
            "  return reduction(axis=axis, out=out, **passkwargs)\n"
          ]
        }
      ],
      "source": [
        "import pandas as pd\n",
        "import numpy as np\n",
        "df = pd.read_csv('/content/Week1_GA_dataset.csv')\n",
        "unknown_count = np.sum(df == '?').sum()\n",
        "print(f\"Number of unknown values: {unknown_count}\")\n",
        "df.replace('?', np.nan, inplace=True)"
      ]
    },
    {
      "cell_type": "markdown",
      "metadata": {
        "id": "VLPqF-_S2ZGk"
      },
      "source": [
        "2) What is the shape of the dataset ?\n",
        "\n",
        "A) (10000, 12)\n",
        "\n",
        "B) (8985, 13)\n",
        "\n",
        "C) (100043, 14)\n",
        "\n",
        "D) (100000, 12)"
      ]
    },
    {
      "cell_type": "code",
      "execution_count": 13,
      "metadata": {
        "colab": {
          "base_uri": "https://localhost:8080/"
        },
        "id": "6HoU33dO2CX5",
        "outputId": "6572c57c-5c42-4244-d149-d57cb3407651"
      },
      "outputs": [
        {
          "data": {
            "text/plain": [
              "(10000, 12)"
            ]
          },
          "execution_count": 13,
          "metadata": {},
          "output_type": "execute_result"
        }
      ],
      "source": [
        "df = pd.read_csv('/content/Week1_GA_dataset.csv')\n",
        "df.shape"
      ]
    },
    {
      "cell_type": "markdown",
      "metadata": {
        "id": "55LYbycv2vXV"
      },
      "source": [
        "3) What is the value present at the 692th indexed row and 0th indexed column in the data ?\n",
        "\n",
        "dataframe[692,0] (simpy saying this in a matrix) \\\n",
        "rows/ columns starts indexing from zero(0) in python"
      ]
    },
    {
      "cell_type": "code",
      "execution_count": 14,
      "metadata": {
        "colab": {
          "base_uri": "https://localhost:8080/"
        },
        "id": "BBz-X55c3GXH",
        "outputId": "451ec6c3-c927-4744-8d57-371de72b4a9a"
      },
      "outputs": [
        {
          "name": "stdout",
          "output_type": "stream",
          "text": [
            "2009-11-16\n"
          ]
        }
      ],
      "source": [
        "print(df.iloc[692, 0])"
      ]
    },
    {
      "cell_type": "markdown",
      "metadata": {
        "id": "dAVQrijC3Lnf"
      },
      "source": [
        "4) What is the value present at the 546th indexed row and 7th indexed column in the data ?\n",
        "\n",
        "dataframe[546,7] (simpy saying this in a matrix)\\\n",
        "rows/ columns starts indexing from zero(0) in python"
      ]
    },
    {
      "cell_type": "code",
      "execution_count": 15,
      "metadata": {
        "colab": {
          "base_uri": "https://localhost:8080/"
        },
        "id": "Hp1l2nQc3LFk",
        "outputId": "562bfc19-e202-42fc-e9db-989e8a9f3316"
      },
      "outputs": [
        {
          "name": "stdout",
          "output_type": "stream",
          "text": [
            "3\n"
          ]
        }
      ],
      "source": [
        "print(df.iloc[546, 7])"
      ]
    },
    {
      "cell_type": "markdown",
      "metadata": {
        "id": "bG_8OvWw3vc7"
      },
      "source": [
        "5) What are the unique values present in the Locality feature of the dataset?\n",
        "\n",
        "A) [Detached House, Duplex, Triplex, Fourplex]\n",
        "\n",
        "B) [Bridgeport, Fairfield, Greenwich, Norwalk,Stamford,Waterbury, West Hartford]\n",
        "\n",
        "C) [Boston, California, Greenwich, Stamford]\n",
        "\n",
        "D) [West Hartford, Waterbury, Norwalk]"
      ]
    },
    {
      "cell_type": "code",
      "execution_count": 43,
      "metadata": {
        "colab": {
          "base_uri": "https://localhost:8080/"
        },
        "id": "Dkaa4-NA3u2V",
        "outputId": "dd8fd2a8-05cd-40d4-e810-7ed4c53fdb99"
      },
      "outputs": [
        {
          "data": {
            "text/plain": [
              "array(['Waterbury', 'Bridgeport', 'Greenwich', 'Norwalk', nan,\n",
              "       'Fairfield', 'West Hartford', 'Stamford'], dtype=object)"
            ]
          },
          "execution_count": 43,
          "metadata": {},
          "output_type": "execute_result"
        }
      ],
      "source": [
        "df['Locality'].unique()"
      ]
    },
    {
      "cell_type": "markdown",
      "metadata": {
        "id": "GjJdsQDa6g8u"
      },
      "source": [
        "6) Which of the following features have missing(NaN) values present in the dataset?\n",
        "(Note: compute after removing \"?\")\n",
        "\n",
        "A) Year\n",
        "\n",
        "B) Estimated Value\n",
        "\n",
        "C) Sale Price\n",
        "\n",
        "D) Locality\n",
        "\n",
        "E) Property\n",
        "\n",
        "F) property_tax_rate"
      ]
    },
    {
      "cell_type": "code",
      "execution_count": 46,
      "metadata": {
        "colab": {
          "base_uri": "https://localhost:8080/"
        },
        "id": "cQbrS3FU6f0l",
        "outputId": "3ad2d097-6787-4ba3-d156-c73c0ca80d5c"
      },
      "outputs": [
        {
          "name": "stdout",
          "output_type": "stream",
          "text": [
            "Estimated Value\n",
            "Locality\n",
            "Property\n"
          ]
        }
      ],
      "source": [
        "import pandas as pd\n",
        "import numpy as np\n",
        "\n",
        "df = pd.read_csv('/content/Week1_GA_dataset.csv')\n",
        "df.replace('?', np.nan, inplace=True)\n",
        "columns_to_check = ['Year', 'Estimated Value', 'Sale Price', 'Locality', 'Property', 'property_tax_rate']\n",
        "for col in columns_to_check:\n",
        "  if df[col].isnull().any():\n",
        "    print(col)"
      ]
    },
    {
      "cell_type": "markdown",
      "metadata": {
        "id": "Q9cQSpye7d5q"
      },
      "source": [
        "7)Which of the following feature has most missing(NaN) values present in the dataset?\\\n",
        "(Note: compute after removing \"?\")\n",
        "\n",
        "A) Locality\n",
        "\n",
        "B) Estimated Value\n",
        "\n",
        "C) Property\n",
        "\n",
        "D) carpet_area"
      ]
    },
    {
      "cell_type": "code",
      "execution_count": 50,
      "metadata": {
        "colab": {
          "base_uri": "https://localhost:8080/"
        },
        "id": "Unz-yJQB7QYe",
        "outputId": "d59139ae-9ea4-4729-9a30-888f74e8df8d"
      },
      "outputs": [
        {
          "name": "stdout",
          "output_type": "stream",
          "text": [
            "Property\n"
          ]
        }
      ],
      "source": [
        "import pandas as pd\n",
        "import numpy as np\n",
        "\n",
        "df = pd.read_csv('/content/Week1_GA_dataset.csv')\n",
        "df.replace('?', np.nan, inplace=True)\n",
        "missing_values_count = df.isnull().sum()\n",
        "column_with_most_missing = missing_values_count.idxmax()\n",
        "print(column_with_most_missing)"
      ]
    },
    {
      "cell_type": "markdown",
      "metadata": {
        "id": "UKNoeON-7hxK"
      },
      "source": [
        "8)Drop all the samples(rows) with missing values strictly greater than 2. How many samples remains after that ?\\\n",
        "(Note: compute after removing \"?\")\n"
      ]
    },
    {
      "cell_type": "code",
      "execution_count": 51,
      "metadata": {
        "colab": {
          "base_uri": "https://localhost:8080/"
        },
        "id": "kPFMQfsA7mzp",
        "outputId": "121bdceb-4ef8-459b-d87a-1db6e02d71e1"
      },
      "outputs": [
        {
          "data": {
            "text/plain": [
              "9917"
            ]
          },
          "execution_count": 51,
          "metadata": {},
          "output_type": "execute_result"
        }
      ],
      "source": [
        "import pandas as pd\n",
        "import numpy as np\n",
        "\n",
        "df = pd.read_csv('/content/Week1_GA_dataset.csv')\n",
        "df.replace('?', np.nan, inplace=True)\n",
        "\n",
        "missing_per_row = df.isnull().sum(axis=1)\n",
        "\n",
        "df_filtered = df[missing_per_row <= 2]\n",
        "\n",
        "remaining_samples = len(df_filtered)\n",
        "remaining_samples"
      ]
    },
    {
      "cell_type": "markdown",
      "metadata": {
        "id": "U58qCpe67vTR"
      },
      "source": [
        "\n",
        "9)Drop all the samples(rows) with missing values in the original dataframe. How many samples remains after that ?\\\n",
        "(Note: compute after removing \"?\")"
      ]
    },
    {
      "cell_type": "code",
      "execution_count": 52,
      "metadata": {
        "colab": {
          "base_uri": "https://localhost:8080/"
        },
        "id": "i-hgDkca7vDI",
        "outputId": "6794e743-3474-427c-9c86-829f73e94cb7"
      },
      "outputs": [
        {
          "data": {
            "text/plain": [
              "5449"
            ]
          },
          "execution_count": 52,
          "metadata": {},
          "output_type": "execute_result"
        }
      ],
      "source": [
        "import pandas as pd\n",
        "import numpy as np\n",
        "\n",
        "df = pd.read_csv('/content/Week1_GA_dataset.csv')\n",
        "df.replace('?', np.nan, inplace=True)\n",
        "\n",
        "df_no_missing = df.dropna()\n",
        "\n",
        "remaining_samples = len(df_no_missing)\n",
        "remaining_samples"
      ]
    }
  ],
  "metadata": {
    "colab": {
      "provenance": []
    },
    "kernelspec": {
      "display_name": "Python 3",
      "name": "python3"
    },
    "language_info": {
      "name": "python"
    }
  },
  "nbformat": 4,
  "nbformat_minor": 0
}
