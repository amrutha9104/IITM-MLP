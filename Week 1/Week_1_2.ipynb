{
  "cells": [
    {
      "cell_type": "code",
      "execution_count": null,
      "metadata": {
        "id": "zYDTPdw8Nm-E"
      },
      "outputs": [],
      "source": [
        "import pandas as pd\n",
        "import numpy as np"
      ]
    },
    {
      "cell_type": "code",
      "execution_count": null,
      "metadata": {
        "id": "Yg4Br3pFNxQr"
      },
      "outputs": [],
      "source": [
        "df = pd.read_csv('/content/Week1_GA_dataset.csv')"
      ]
    },
    {
      "cell_type": "markdown",
      "metadata": {
        "id": "VpoMy4MUO1JJ"
      },
      "source": [
        "1) Select all the even indexed rows from the given dataset. What is the value in the 3rd indexed column of the 0th indexed row in the selected dataframe. \\(row/ column indexed from zero(0) in python/pandas)"
      ]
    },
    {
      "cell_type": "code",
      "execution_count": null,
      "metadata": {
        "colab": {
          "base_uri": "https://localhost:8080/"
        },
        "id": "yrVvhN13NthE",
        "outputId": "c11f51cd-4463-4649-90d7-f30901217805"
      },
      "outputs": [
        {
          "name": "stdout",
          "output_type": "stream",
          "text": [
            "111440.0\n"
          ]
        },
        {
          "name": "stderr",
          "output_type": "stream",
          "text": [
            "<ipython-input-4-c15d9f198fe8>:2: FutureWarning: Series.__getitem__ treating keys as positions is deprecated. In a future version, integer keys will always be treated as labels (consistent with DataFrame behavior). To access a value by position, use `ser.iloc[pos]`\n",
            "  print(DF1.iloc[0][3])\n"
          ]
        }
      ],
      "source": [
        "DF1 = df.iloc[::2]\n",
        "print(DF1.iloc[0][3])"
      ]
    },
    {
      "cell_type": "markdown",
      "metadata": {
        "id": "0KKHpDcCPvMZ"
      },
      "source": [
        "2) Select all the even indexed rows from the given dataset. What is the value in the 3rd indexed column of the 332th indexed row in the selected dataframe. (row/ column indexed from zero(0))"
      ]
    },
    {
      "cell_type": "code",
      "execution_count": null,
      "metadata": {
        "colab": {
          "base_uri": "https://localhost:8080/"
        },
        "id": "h-9qV0z7P5n4",
        "outputId": "c0212517-6c3f-4c69-9acc-6a1dad309a9f"
      },
      "outputs": [
        {
          "name": "stdout",
          "output_type": "stream",
          "text": [
            "256200.0\n"
          ]
        },
        {
          "name": "stderr",
          "output_type": "stream",
          "text": [
            "<ipython-input-5-5b806701afea>:2: FutureWarning: Series.__getitem__ treating keys as positions is deprecated. In a future version, integer keys will always be treated as labels (consistent with DataFrame behavior). To access a value by position, use `ser.iloc[pos]`\n",
            "  print(DF1.iloc[332][3])\n"
          ]
        }
      ],
      "source": [
        "DF1 = df.iloc[::2]\n",
        "print(DF1.iloc[332][3])"
      ]
    },
    {
      "cell_type": "markdown",
      "metadata": {
        "id": "PEpwz-FIQZPg"
      },
      "source": [
        "3) Select all the odd indexed rows from the given dataset. What is the value in the 3rd indexed column of the 332th indexed row in the selected dataframe. (row/ column indexed from zero(0))\\\n",
        " Please consider case sensitivity while giving your solution capital letter ≠ small letter\\\n",
        "  If it is a string don't write quotes in the solution."
      ]
    },
    {
      "cell_type": "code",
      "execution_count": null,
      "metadata": {
        "colab": {
          "base_uri": "https://localhost:8080/"
        },
        "id": "beJ057UUQevf",
        "outputId": "e72769f0-5b42-4a19-c0d7-d118588fe3ea"
      },
      "outputs": [
        {
          "name": "stdout",
          "output_type": "stream",
          "text": [
            "352940.0\n"
          ]
        },
        {
          "name": "stderr",
          "output_type": "stream",
          "text": [
            "<ipython-input-6-8055c03263d5>:2: FutureWarning: Series.__getitem__ treating keys as positions is deprecated. In a future version, integer keys will always be treated as labels (consistent with DataFrame behavior). To access a value by position, use `ser.iloc[pos]`\n",
            "  print(DF1.iloc[332][3])\n"
          ]
        }
      ],
      "source": [
        "DF1 = df.iloc[1::2]\n",
        "print(DF1.iloc[332][3])"
      ]
    },
    {
      "cell_type": "markdown",
      "metadata": {
        "id": "YvPa2gn0Rsn3"
      },
      "source": [
        "4) Select all the odd indexed columns from the given dataset. What is the value in the 5th indexed column of the 100th indexed row in the selected dataframe. (row/ column indexed from zero(0))\\\n",
        "Please consider case sensitivity while giving your solution capital letter ≠ small letter\\\n",
        "If it is a string don't write quotes in the solution.\n",
        "\n",
        "A) Single Family\n",
        "\n",
        "B) West\n",
        "\n",
        "C) 2022\n",
        "\n",
        "D) Detached House"
      ]
    },
    {
      "cell_type": "code",
      "execution_count": null,
      "metadata": {
        "colab": {
          "base_uri": "https://localhost:8080/"
        },
        "id": "lHA3J37vRxLm",
        "outputId": "1852f531-ec41-4bb7-e7ef-331f05a0bea6"
      },
      "outputs": [
        {
          "name": "stdout",
          "output_type": "stream",
          "text": [
            "West\n"
          ]
        },
        {
          "name": "stderr",
          "output_type": "stream",
          "text": [
            "<ipython-input-9-dbb8f6cb4ce8>:2: FutureWarning: Series.__getitem__ treating keys as positions is deprecated. In a future version, integer keys will always be treated as labels (consistent with DataFrame behavior). To access a value by position, use `ser.iloc[pos]`\n",
            "  print(DF1.iloc[100][5])\n"
          ]
        }
      ],
      "source": [
        "DF1 = df.iloc[:,1::2]\n",
        "print(DF1.iloc[100][5])"
      ]
    },
    {
      "cell_type": "markdown",
      "metadata": {
        "id": "DugDCRYvTrcV"
      },
      "source": [
        "5) Select all the even indexed columns and even indexed rows from the given dataset. What is the value in the 3th indexed column of the 255th indexed row in the selected dataframe. (row/ column indexed/starts from zero(0))\\\n",
        "Please consider case sensitivity while giving your solution capital letter ≠ small letter\\\n",
        "If it is a string don't write quotes in the solution.\n",
        "\n",
        "A) Single Family\n",
        "\n",
        "B) West\n",
        "\n",
        "C) 2022\n",
        "\n",
        "D) Detached House"
      ]
    },
    {
      "cell_type": "code",
      "execution_count": null,
      "metadata": {
        "colab": {
          "base_uri": "https://localhost:8080/"
        },
        "id": "lmAk-lvRTzT-",
        "outputId": "199bb8f1-1fcd-41f5-a68a-82c61d56172f"
      },
      "outputs": [
        {
          "name": "stdout",
          "output_type": "stream",
          "text": [
            "Detached House\n"
          ]
        }
      ],
      "source": [
        "DF1 = df.iloc[::2,::2]\n",
        "print(DF1.iloc[255,3])"
      ]
    },
    {
      "cell_type": "markdown",
      "metadata": {
        "id": "SSQsPEMbUrVD"
      },
      "source": [
        "6)  Determine the number of samples (rows) in the dataset that belong to the six most recent years, based on the provided data."
      ]
    },
    {
      "cell_type": "code",
      "execution_count": null,
      "metadata": {
        "colab": {
          "base_uri": "https://localhost:8080/"
        },
        "id": "mB33j9ssUuyL",
        "outputId": "214c757f-db81-4592-c9ee-cdb4333ed559"
      },
      "outputs": [
        {
          "data": {
            "text/plain": [
              "4749"
            ]
          },
          "execution_count": 7,
          "metadata": {},
          "output_type": "execute_result"
        }
      ],
      "source": [
        "recent_years = sorted(df['Year'].unique(), reverse=True)[:6]\n",
        "\n",
        "recent_rows = df[df['Year'].isin(recent_years)]\n",
        "\n",
        "num_samples = recent_rows.shape[0]\n",
        "num_samples\n"
      ]
    },
    {
      "cell_type": "markdown",
      "metadata": {
        "id": "jGtPC9u1acF_"
      },
      "source": [
        "7) Determine the number of samples (rows) in the dataset which has num_rooms = 3 and num_bathrooms = 3"
      ]
    },
    {
      "cell_type": "code",
      "execution_count": null,
      "metadata": {
        "colab": {
          "base_uri": "https://localhost:8080/"
        },
        "id": "zwYR9QemX8b4",
        "outputId": "fa2cde5a-b2ed-4c81-fbdc-c21146aa50c2"
      },
      "outputs": [
        {
          "name": "stdout",
          "output_type": "stream",
          "text": [
            "(2730, 12)\n"
          ]
        }
      ],
      "source": [
        "ROW1 = df[(df['num_rooms']==3) & (df['num_bathrooms']==3)]\n",
        "print(ROW1.shape)"
      ]
    },
    {
      "cell_type": "markdown",
      "metadata": {
        "id": "D9r8jFspbfzp"
      },
      "source": [
        "9) In the Year 2022, how many houses (rows) located in the Greenwich Locality have exactly num_room == 3, and facing towards either the North or East?\n"
      ]
    },
    {
      "cell_type": "code",
      "execution_count": null,
      "metadata": {
        "colab": {
          "base_uri": "https://localhost:8080/"
        },
        "id": "fF0ySo_gblCY",
        "outputId": "e3fb9e3d-0902-4797-88cd-7f6bef2eb69e"
      },
      "outputs": [
        {
          "name": "stdout",
          "output_type": "stream",
          "text": [
            "(42, 12)\n",
            "(42, 12)\n"
          ]
        }
      ],
      "source": [
        "DF1 = df[(df['Year']==2022) & (df['Locality']==\"Greenwich\") & (df['num_rooms']==3) & ((df['Face']=='North')|(df['Face']=='East')) ]\n",
        "print(DF1.shape)\n",
        "DF1 = df[(df['Year']==2022) & (df['Locality']==\"Greenwich\") & (df['num_rooms']==3) & (df['Face'].isin(['North','East']))]\n",
        "print(DF1.shape)"
      ]
    },
    {
      "cell_type": "markdown",
      "metadata": {
        "id": "qRCxe_TAgFjx"
      },
      "source": [
        "10) Calculate the number of samples(rows) that correspond to the month of August across all the years.?"
      ]
    },
    {
      "cell_type": "code",
      "execution_count": null,
      "metadata": {
        "colab": {
          "base_uri": "https://localhost:8080/"
        },
        "id": "XaSSu_7PgInJ",
        "outputId": "60b7271d-d31c-4f3b-c502-23b240dd7377"
      },
      "outputs": [
        {
          "data": {
            "text/plain": [
              "1050"
            ]
          },
          "execution_count": 13,
          "metadata": {},
          "output_type": "execute_result"
        }
      ],
      "source": [
        "df['Date'] = pd.to_datetime(df['Date'], errors='coerce')\n",
        "august_data = df[df['Date'].dt.month == 8]\n",
        "august_count = len(august_data)\n",
        "august_count"
      ]
    },
    {
      "cell_type": "markdown",
      "metadata": {
        "id": "0KemFSoiiHYH"
      },
      "source": [
        "11) According to the data which Locality have highest average Sale Price?\n",
        "\n",
        "A) Waterbury\n",
        "\n",
        "B) Bridgeport\n",
        "\n",
        "C) Greenwich\n",
        "\n",
        "D) Norwalk\n",
        "\n",
        "E) Fairfield\n",
        "\n",
        "F) West Hartford\n",
        "\n",
        "G) Stamford"
      ]
    },
    {
      "cell_type": "code",
      "execution_count": null,
      "metadata": {
        "colab": {
          "base_uri": "https://localhost:8080/"
        },
        "id": "UFPznDLjiLt3",
        "outputId": "c496d466-9e60-4144-99b6-4475dba3a107"
      },
      "outputs": [
        {
          "data": {
            "text/plain": [
              "('Greenwich', 2270223.539495238)"
            ]
          },
          "execution_count": 14,
          "metadata": {},
          "output_type": "execute_result"
        }
      ],
      "source": [
        "localities_of_interest = [\"Waterbury\", \"Bridgeport\", \"Greenwich\", \"Norwalk\", \"Fairfield\", \"West Hartford\", \"Stamford\"]\n",
        "filtered_data = df[df['Locality'].isin(localities_of_interest)]\n",
        "\n",
        "average_sale_price_by_locality = filtered_data.groupby('Locality')['Sale Price'].mean()\n",
        "\n",
        "highest_avg_sale_price_locality = average_sale_price_by_locality.idxmax(), average_sale_price_by_locality.max()\n",
        "highest_avg_sale_price_locality"
      ]
    }
  ],
  "metadata": {
    "colab": {
      "provenance": []
    },
    "kernelspec": {
      "display_name": "Python 3",
      "name": "python3"
    },
    "language_info": {
      "name": "python"
    }
  },
  "nbformat": 4,
  "nbformat_minor": 0
}
