{
  "nbformat": 4,
  "nbformat_minor": 0,
  "metadata": {
    "colab": {
      "provenance": []
    },
    "kernelspec": {
      "name": "python3",
      "display_name": "Python 3"
    },
    "language_info": {
      "name": "python"
    }
  },
  "cells": [
    {
      "cell_type": "markdown",
      "source": [
        "**Practice Assignment**\\\n",
        "Use MNIST dataset. Store all the samples in X and labels in y.\\\n",
        "Split the dataset in the following ratio.\\\n",
        "Training : Take the first 70% of samples from X and store them in x_train\\\n",
        "Testing: Take the remaining 30% of samples from X and store them in x_test\\\n",
        "Store the respective labels in y_train,y_test respectively.\n",
        "\n",
        "The last training sample is of digit __?"
      ],
      "metadata": {
        "id": "aQFDjcx5GtOf"
      }
    },
    {
      "cell_type": "code",
      "source": [
        "import numpy as np\n",
        "from sklearn.model_selection import train_test_split\n",
        "from sklearn.datasets import fetch_openml\n",
        "\n",
        "# Load MNIST dataset\n",
        "mnist = fetch_openml('mnist_784', version=1)\n",
        "X, y = mnist.data, mnist.target.astype(int)\n",
        "\n",
        "# Split the dataset into training and testing sets\n",
        "x_train, x_test, y_train, y_test = train_test_split(X, y, train_size=0.7, shuffle=False)\n",
        "\n",
        "# Find the last training sample's digit\n",
        "last_digit = y_train.iloc[-1]\n",
        "print(f\"The last training sample is of digit {last_digit}\")"
      ],
      "metadata": {
        "colab": {
          "base_uri": "https://localhost:8080/"
        },
        "id": "eLxgFKi0KomL",
        "outputId": "bd89dfe9-f782-4cb8-8e7f-28a7236f2b4c"
      },
      "execution_count": 20,
      "outputs": [
        {
          "output_type": "stream",
          "name": "stdout",
          "text": [
            "The last training sample is of digit 6\n"
          ]
        }
      ]
    },
    {
      "cell_type": "markdown",
      "source": [
        "2) Build a classifier that differentiates digit 6 from digit 9.\n",
        "Steps to be followed\n",
        "1. Collect all digit-6 (Positive class) and digit-9 (Negative class) images from x_train and stack them properly as a single datamatrix x_train_69.\n",
        "2. Keep all digit-6 images from index 0 to i followed by digit-9 images from index i+1 to n (i denotes the end index of digit-6 images)\n",
        "3. Similarly, collect the respective labels and store it in a variable y_train_69\n",
        "4. Set the label values to 1 for positive classes and 0 for negative classes.\n",
        "5. Load from sklearn.utils import shuffle\n",
        "6. Shuffle the datamatrix and labels. (Set random_state value to 1729).\n",
        "7. Create x_test_69 and y_test_69 by repeating the steps from 1 to 6 with required modifications.\\\n",
        "What is the sum of all the labels in the vector y_train_69?\n",
        "\n",
        "Hint:-\\\n",
        "Use X-train, y_train as input to get  x_train_69 and y_train_69 and\n",
        "X_test , y_test as input  to get  x_test_69 and y_test_69"
      ],
      "metadata": {
        "id": "ZJVQ0C1CMe-E"
      }
    },
    {
      "cell_type": "code",
      "source": [
        "import numpy as np\n",
        "from sklearn.utils import shuffle\n",
        "\n",
        "def build_classifier_data(X, y):\n",
        "    X_6 = X[y == 6]\n",
        "    X_9 = X[y == 9]\n",
        "    X_69 = np.vstack((X_6, X_9))\n",
        "    y_6 = np.ones(X_6.shape[0])\n",
        "    y_9 = np.zeros(X_9.shape[0])\n",
        "    y_69 = np.hstack((y_6, y_9))\n",
        "    X_69, y_69 = shuffle(X_69, y_69, random_state=1729)\n",
        "    return X_69, y_69\n",
        "\n",
        "x_train_69, y_train_69 = build_classifier_data(x_train, y_train)\n",
        "x_test_69, y_test_69 = build_classifier_data(x_test, y_test)\n",
        "\n",
        "print(f\"{np.sum(y_train_69)}\")\n"
      ],
      "metadata": {
        "colab": {
          "base_uri": "https://localhost:8080/"
        },
        "id": "VIclPhLINUbm",
        "outputId": "ca7f5e39-9e34-4d3b-c969-6e0245ab4555"
      },
      "execution_count": 22,
      "outputs": [
        {
          "output_type": "stream",
          "name": "stdout",
          "text": [
            "4855.0\n"
          ]
        }
      ]
    },
    {
      "cell_type": "markdown",
      "source": [
        "3) What is the sum of all the labels in the vector y_test_69."
      ],
      "metadata": {
        "id": "DUy-56oyNhgd"
      }
    },
    {
      "cell_type": "code",
      "source": [
        "print(f\"{np.sum(y_test_69)}\")"
      ],
      "metadata": {
        "colab": {
          "base_uri": "https://localhost:8080/"
        },
        "id": "KarrgmhYNlmI",
        "outputId": "b7c13a4e-8103-4f68-d7aa-6fa36fd8d3ae"
      },
      "execution_count": 23,
      "outputs": [
        {
          "output_type": "stream",
          "name": "stdout",
          "text": [
            "2021.0\n"
          ]
        }
      ]
    },
    {
      "cell_type": "markdown",
      "source": [
        "4) Apply StandardScaler to all the training samples in x_train_69 and store the result in another variable (say, x_train_69Tf).\n",
        "\n",
        "     * What is the mean of the zeroth sample?\n",
        "     * What is the mean of zeroth feature?\n",
        "     * What is the standard deviation of the zeroth sample?\n",
        "     * What is the standard deviation of the zeroth feature?\n",
        "\n",
        "   Pack the answers (in order) in a tuple"
      ],
      "metadata": {
        "id": "fjEbwFtCNqHU"
      }
    },
    {
      "cell_type": "code",
      "source": [
        "from sklearn.preprocessing import StandardScaler\n",
        "\n",
        "scaler = StandardScaler()\n",
        "x_train_69Tf = scaler.fit_transform(x_train_69)\n",
        "\n",
        "mean_zeroth_sample = np.mean(x_train_69Tf[0])\n",
        "mean_zeroth_feature = np.mean(x_train_69Tf[:, 0])\n",
        "std_zeroth_sample = np.std(x_train_69Tf[0])\n",
        "std_zeroth_feature = np.std(x_train_69Tf[:, 0])\n",
        "\n",
        "results_tuple = (mean_zeroth_sample, mean_zeroth_feature, std_zeroth_sample, std_zeroth_feature)\n",
        "results_tuple\n"
      ],
      "metadata": {
        "colab": {
          "base_uri": "https://localhost:8080/"
        },
        "id": "oduxbBDSNqjD",
        "outputId": "101e6120-3b2d-4506-c661-c2e9ed80bdee"
      },
      "execution_count": 25,
      "outputs": [
        {
          "output_type": "execute_result",
          "data": {
            "text/plain": [
              "(np.float64(0.08128379559427823),\n",
              " np.float64(0.0),\n",
              " np.float64(0.7358823226037738),\n",
              " np.float64(0.0))"
            ]
          },
          "metadata": {},
          "execution_count": 25
        }
      ]
    }
  ]
}